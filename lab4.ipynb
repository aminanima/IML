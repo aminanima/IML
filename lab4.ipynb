{
 "cells": [
  {
   "cell_type": "code",
   "execution_count": 5,
   "metadata": {},
   "outputs": [
    {
     "name": "stdout",
     "output_type": "stream",
     "text": [
      "Армия колдунов: \n",
      "\n",
      "Скелеты:  [ 0.   0.2  0.7  0.8]\n",
      "Зомби:  [ 0.   0.3  0.7  0.5]\n",
      "Вампиры:  [ 0.5  0.5  0.5  0.5]\n",
      "Ведьмы:  [ 0.7  0.4  0.4  0.6]\n",
      "Костяной дракон:  [ 0.7  0.7  0.3  0.3] \n",
      "\n",
      "Армия волшебников: \n",
      "\n",
      "Эф. Магия:  [ 0.   0.3  0.3  0.7  0. ]\n",
      "Эф. Физ. Атак:  [ 0.3  0.1  0.7  0.3  0.8]\n",
      "Вос. Магия:  [ 0.8  0.6  0.5  0.4  0.3]\n",
      "Вос. Физ. Атак:  [ 0.8  0.8  0.5  0.6  0.2] \n",
      "\n",
      "Эффективность\n",
      "\n",
      "[[ 0.64  0.64  0.4   0.48  0.21]\n",
      " [ 0.56  0.42  0.35  0.3   0.24]\n",
      " [ 0.4   0.4   0.35  0.35  0.4 ]\n",
      " [ 0.48  0.48  0.3   0.49  0.32]\n",
      " [ 0.24  0.24  0.49  0.49  0.56]]\n",
      "А Количество          Б Количество\n",
      "\n",
      "Костянной дракон 1    Крестьяне 2\n",
      "\n",
      "Ведьмы 2              Феи 4\n",
      "\n",
      "Вампиры 3             Эльфы 3\n",
      "\n",
      "Зомби 5               Крестьяне 5\n",
      "\n",
      "Скелеты 8             Эльфы 8\n",
      "\n"
     ]
    }
   ],
   "source": [
    "import numpy as np\n",
    "from pyDatalog import pyDatalog\n",
    "from pyDatalog import pyEngine\n",
    "\n",
    "tb1 = np.array([[0, 0.2, 0.7, 0.8], \n",
    "               [0, 0.3, 0.7, 0.5], \n",
    "               [0.5, 0.5, 0.5, 0.5],\n",
    "               [0.7, 0.4, 0.4, 0.6], \n",
    "               [0.7, 0.7, 0.3, 0.3]])\n",
    "tb2 = np.array([[0, 0.3, 0.3, 0.7, 0],\n",
    "               [0.3, 0.1, 0.7, 0.3, 0.8], \n",
    "               [0.8, 0.6, 0.5, 0.4, 0.3], \n",
    "               [0.8, 0.8, 0.5, 0.6, 0.2]])\n",
    "\n",
    "def maxfunc(x, y):\n",
    "    z = []\n",
    "    for x1 in x:\n",
    "        for y1 in y.T:\n",
    "            z.append(max(np.multiply(x1, y1)))\n",
    "    return np.array(z).reshape((x.shape[0], y.shape[1]))\n",
    "\n",
    "\n",
    "print(\"Армия колдунов: \\n\")\n",
    "print(\"Скелеты: \", tb1[0])\n",
    "print(\"Зомби: \", tb1[1])\n",
    "print(\"Вампиры: \", tb1[2])\n",
    "print(\"Ведьмы: \", tb1[3])\n",
    "print(\"Костяной дракон: \", tb1[4], \"\\n\")\n",
    "\n",
    "print(\"Армия волшебников: \\n\")\n",
    "print(\"Эф. Магия: \", tb2[0])\n",
    "print(\"Эф. Физ. Атак: \", tb2[1])\n",
    "print(\"Вос. Магия: \", tb2[2])\n",
    "print(\"Вос. Физ. Атак: \", tb2[3], \"\\n\")\n",
    "\n",
    "print(\"Эффективность\\n\")\n",
    "print(maxfunc(tb1, tb2))\n",
    "\n",
    "print(\"А Количество          Б Количество\\n\")\n",
    "print(\"Костянной дракон 1    Крестьяне 2\\n\")\n",
    "print(\"Ведьмы 2              Феи 4\\n\")\n",
    "print(\"Вампиры 3             Эльфы 3\\n\")\n",
    "print(\"Зомби 5               Крестьяне 5\\n\") \n",
    "print(\"Скелеты 8             Эльфы 8\\n\")"
   ]
  },
  {
   "cell_type": "code",
   "execution_count": null,
   "metadata": {},
   "outputs": [],
   "source": []
  },
  {
   "cell_type": "code",
   "execution_count": null,
   "metadata": {},
   "outputs": [],
   "source": []
  },
  {
   "cell_type": "code",
   "execution_count": null,
   "metadata": {
    "collapsed": true
   },
   "outputs": [],
   "source": []
  }
 ],
 "metadata": {
  "kernelspec": {
   "display_name": "Python 3",
   "language": "python",
   "name": "python3"
  },
  "language_info": {
   "codemirror_mode": {
    "name": "ipython",
    "version": 3
   },
   "file_extension": ".py",
   "mimetype": "text/x-python",
   "name": "python",
   "nbconvert_exporter": "python",
   "pygments_lexer": "ipython3",
   "version": "3.6.1"
  }
 },
 "nbformat": 4,
 "nbformat_minor": 2
}
