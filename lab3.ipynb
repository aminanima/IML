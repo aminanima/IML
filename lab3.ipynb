{
 "cells": [
  {
   "cell_type": "code",
   "execution_count": 11,
   "metadata": {},
   "outputs": [
    {
     "name": "stdout",
     "output_type": "stream",
     "text": [
      "    type                             type_description  client_id  \\\n",
      "0   4035                                          н/д    8501277   \n",
      "1   4035                                          н/д    8501277   \n",
      "2   4210  Плата за получение наличных в АТМ. Зарубеж.   63294650   \n",
      "3   4210  Плата за получение наличных в АТМ. Зарубеж.   81737336   \n",
      "4   4210  Плата за получение наличных в АТМ. Зарубеж.   81737336   \n",
      "5   4210  Плата за получение наличных в АТМ. Зарубеж.   81737336   \n",
      "6   4210  Плата за получение наличных в АТМ. Зарубеж.   81737336   \n",
      "7   4210  Плата за получение наличных в АТМ. Зарубеж.   81737336   \n",
      "8   4210  Плата за получение наличных в АТМ. Зарубеж.   81737336   \n",
      "9   4210  Плата за получение наличных в АТМ. Зарубеж.   81737336   \n",
      "10  4210  Плата за получение наличных в АТМ. Зарубеж.   81737336   \n",
      "11  4210  Плата за получение наличных в АТМ. Зарубеж.   76566285   \n",
      "12  4210  Плата за получение наличных в АТМ. Зарубеж.   87902560   \n",
      "13  4210  Плата за получение наличных в АТМ. Зарубеж.   87902560   \n",
      "14  4210  Плата за получение наличных в АТМ. Зарубеж.   87902560   \n",
      "15  4210  Плата за получение наличных в АТМ. Зарубеж.   87902560   \n",
      "16  4210  Плата за получение наличных в АТМ. Зарубеж.   87902560   \n",
      "17  4210  Плата за получение наличных в АТМ. Зарубеж.   87902560   \n",
      "18  4210  Плата за получение наличных в АТМ. Зарубеж.   87902560   \n",
      "19  4210  Плата за получение наличных в АТМ. Зарубеж.   87902560   \n",
      "\n",
      "        datetime  code      sum source_id  status  \\\n",
      "0    27 18:39:53  6011 -1179.11       NaN       1   \n",
      "1    27 18:49:59  6011  -168.44       NaN       1   \n",
      "2   392 00:00:00  6011 -2245.92  TP74B065       1   \n",
      "3   382 00:00:00  6011 -2245.92  00006664       1   \n",
      "4    30 00:00:00  6011 -2245.92       NaN       1   \n",
      "5    28 00:00:00  6011 -2245.92       NaN       1   \n",
      "6    28 00:00:00  6011 -2245.92       NaN       1   \n",
      "7    32 00:00:00  6011 -2245.92       NaN       1   \n",
      "8    31 00:00:00  6011 -2245.92       NaN       1   \n",
      "9    13 00:00:00  6011 -2245.92       NaN       1   \n",
      "10   32 00:00:00  6011 -2245.92       NaN       1   \n",
      "11   99 13:44:57  6011 -2245.92       NaN       0   \n",
      "12  382 00:00:00  6011 -2245.92  ATM01049       1   \n",
      "13  374 00:00:00  6011 -2245.92     DK010       1   \n",
      "14  364 00:00:00  6011 -2245.92   J118077       1   \n",
      "15  362 00:00:00  6011 -2245.92     DK051       1   \n",
      "16  380 00:00:00  6011 -2245.92  AC908028       1   \n",
      "17  367 00:00:00  6011 -2245.92   J114373       1   \n",
      "18  370 00:00:00  6011 -2245.92  AC908028       1   \n",
      "19  374 00:00:00  6011 -2245.92     DK051       1   \n",
      "\n",
      "                                     code_description  \n",
      "0   Финансовые институты — снятие наличности автом...  \n",
      "1   Финансовые институты — снятие наличности автом...  \n",
      "2   Финансовые институты — снятие наличности автом...  \n",
      "3   Финансовые институты — снятие наличности автом...  \n",
      "4   Финансовые институты — снятие наличности автом...  \n",
      "5   Финансовые институты — снятие наличности автом...  \n",
      "6   Финансовые институты — снятие наличности автом...  \n",
      "7   Финансовые институты — снятие наличности автом...  \n",
      "8   Финансовые институты — снятие наличности автом...  \n",
      "9   Финансовые институты — снятие наличности автом...  \n",
      "10  Финансовые институты — снятие наличности автом...  \n",
      "11  Финансовые институты — снятие наличности автом...  \n",
      "12  Финансовые институты — снятие наличности автом...  \n",
      "13  Финансовые институты — снятие наличности автом...  \n",
      "14  Финансовые институты — снятие наличности автом...  \n",
      "15  Финансовые институты — снятие наличности автом...  \n",
      "16  Финансовые институты — снятие наличности автом...  \n",
      "17  Финансовые институты — снятие наличности автом...  \n",
      "18  Финансовые институты — снятие наличности автом...  \n",
      "19  Финансовые институты — снятие наличности автом...  \n"
     ]
    },
    {
     "data": {
      "text/html": [
       "<div>\n",
       "<style>\n",
       "    .dataframe thead tr:only-child th {\n",
       "        text-align: right;\n",
       "    }\n",
       "\n",
       "    .dataframe thead th {\n",
       "        text-align: left;\n",
       "    }\n",
       "\n",
       "    .dataframe tbody tr th {\n",
       "        vertical-align: top;\n",
       "    }\n",
       "</style>\n",
       "<table border=\"1\" class=\"dataframe\">\n",
       "  <thead>\n",
       "    <tr style=\"text-align: right;\">\n",
       "      <th></th>\n",
       "      <th>type</th>\n",
       "      <th>client_id</th>\n",
       "      <th>code</th>\n",
       "      <th>sum</th>\n",
       "      <th>status</th>\n",
       "    </tr>\n",
       "  </thead>\n",
       "  <tbody>\n",
       "    <tr>\n",
       "      <th>count</th>\n",
       "      <td>4.101723e+06</td>\n",
       "      <td>4.101723e+06</td>\n",
       "      <td>4.101723e+06</td>\n",
       "      <td>4.101723e+06</td>\n",
       "      <td>4.101723e+06</td>\n",
       "    </tr>\n",
       "    <tr>\n",
       "      <th>mean</th>\n",
       "      <td>2.499337e+03</td>\n",
       "      <td>5.089502e+07</td>\n",
       "      <td>5.592849e+03</td>\n",
       "      <td>-2.091074e+04</td>\n",
       "      <td>4.851022e-01</td>\n",
       "    </tr>\n",
       "    <tr>\n",
       "      <th>std</th>\n",
       "      <td>2.259388e+03</td>\n",
       "      <td>2.865764e+07</td>\n",
       "      <td>6.032087e+02</td>\n",
       "      <td>5.017032e+05</td>\n",
       "      <td>4.997781e-01</td>\n",
       "    </tr>\n",
       "    <tr>\n",
       "      <th>min</th>\n",
       "      <td>1.000000e+03</td>\n",
       "      <td>2.289900e+04</td>\n",
       "      <td>7.420000e+02</td>\n",
       "      <td>-1.347549e+08</td>\n",
       "      <td>0.000000e+00</td>\n",
       "    </tr>\n",
       "    <tr>\n",
       "      <th>25%</th>\n",
       "      <td>1.030000e+03</td>\n",
       "      <td>2.599296e+07</td>\n",
       "      <td>5.211000e+03</td>\n",
       "      <td>-2.245916e+04</td>\n",
       "      <td>0.000000e+00</td>\n",
       "    </tr>\n",
       "    <tr>\n",
       "      <th>50%</th>\n",
       "      <td>1.110000e+03</td>\n",
       "      <td>5.243300e+07</td>\n",
       "      <td>5.641000e+03</td>\n",
       "      <td>-5.524950e+03</td>\n",
       "      <td>0.000000e+00</td>\n",
       "    </tr>\n",
       "    <tr>\n",
       "      <th>75%</th>\n",
       "      <td>2.370000e+03</td>\n",
       "      <td>7.499280e+07</td>\n",
       "      <td>6.010000e+03</td>\n",
       "      <td>-1.122960e+03</td>\n",
       "      <td>1.000000e+00</td>\n",
       "    </tr>\n",
       "    <tr>\n",
       "      <th>max</th>\n",
       "      <td>8.146000e+03</td>\n",
       "      <td>9.999968e+07</td>\n",
       "      <td>9.402000e+03</td>\n",
       "      <td>1.347549e+08</td>\n",
       "      <td>1.000000e+00</td>\n",
       "    </tr>\n",
       "  </tbody>\n",
       "</table>\n",
       "</div>"
      ],
      "text/plain": [
       "               type     client_id          code           sum        status\n",
       "count  4.101723e+06  4.101723e+06  4.101723e+06  4.101723e+06  4.101723e+06\n",
       "mean   2.499337e+03  5.089502e+07  5.592849e+03 -2.091074e+04  4.851022e-01\n",
       "std    2.259388e+03  2.865764e+07  6.032087e+02  5.017032e+05  4.997781e-01\n",
       "min    1.000000e+03  2.289900e+04  7.420000e+02 -1.347549e+08  0.000000e+00\n",
       "25%    1.030000e+03  2.599296e+07  5.211000e+03 -2.245916e+04  0.000000e+00\n",
       "50%    1.110000e+03  5.243300e+07  5.641000e+03 -5.524950e+03  0.000000e+00\n",
       "75%    2.370000e+03  7.499280e+07  6.010000e+03 -1.122960e+03  1.000000e+00\n",
       "max    8.146000e+03  9.999968e+07  9.402000e+03  1.347549e+08  1.000000e+00"
      ]
     },
     "execution_count": 11,
     "metadata": {},
     "output_type": "execute_result"
    }
   ],
   "source": [
    "import pandas as pd\n",
    "import numpy as np\n",
    "\n",
    "operations = pd.read_csv('operations.csv', sep=',',decimal='.')\n",
    "dataset = pd.read_csv('dataset.csv', sep=',')\n",
    "mergeOD = pd.merge(operations, dataset, on ='client_id')\n",
    "types = pd.read_csv('types.csv', sep=';')\n",
    "codes = pd.read_csv('codes.csv', sep=';')\n",
    "merge1 = pd.merge(types, mergeOD, on ='type')\n",
    "mergeAll = pd.merge(merge1, codes, on ='code')\n",
    "print (mergeAll[:20])\n",
    "mergeAll.describe()\n"
   ]
  },
  {
   "cell_type": "code",
   "execution_count": 14,
   "metadata": {},
   "outputs": [
    {
     "data": {
      "text/plain": [
       "array([[<matplotlib.axes._subplots.AxesSubplot object at 0x136732320>,\n",
       "        <matplotlib.axes._subplots.AxesSubplot object at 0x13679e7f0>],\n",
       "       [<matplotlib.axes._subplots.AxesSubplot object at 0x137234160>,\n",
       "        <matplotlib.axes._subplots.AxesSubplot object at 0x10fcfd7f0>],\n",
       "       [<matplotlib.axes._subplots.AxesSubplot object at 0x11094a5f8>,\n",
       "        <matplotlib.axes._subplots.AxesSubplot object at 0x11094aeb8>]], dtype=object)"
      ]
     },
     "execution_count": 14,
     "metadata": {},
     "output_type": "execute_result"
    },
    {
     "data": {
      "image/png": "[encoded data removed]",
      "text/plain": [
       "<matplotlib.figure.Figure at 0x136e3aba8>"
      ]
     },
     "metadata": {},
     "output_type": "display_data"
    }
   ],
   "source": [
    "%matplotlib inline\n",
    "merge1.hist(figsize = (10,15), bins = 100)"
   ]
  },
  {
   "cell_type": "code",
   "execution_count": 16,
   "metadata": {},
   "outputs": [
    {
     "name": "stdout",
     "output_type": "stream",
     "text": [
      "   client_id             datetime  code  type        sum source_id\n",
      "0   96372458  2018-11-15 23:09:44  6011  2010 -561478.94    256572\n",
      "1   64404394  2018-10-24 23:33:18  6011  2010  -67377.47    330228\n",
      "2   24567813  2018-10-03 09:57:09  6011  7010   67377.47    542191\n"
     ]
    }
   ],
   "source": [
    "#Just simple try \n",
    "\n",
    "import pandas as pd \n",
    "import sys as sys\n",
    "from datetime import datetime\n",
    "import time\n",
    "data = pd.read_csv('operations.csv', sep = ',', decimal = '.' )\n",
    "datatime = pd.DataFrame(data,columns=['datetime'])\n",
    "def formatNew(datatime) :\n",
    "    a = datatime.split()\n",
    "    b = a[1].split(':')\n",
    "    form = 1505903789 + int(a[0])*86400 + int(b[0])*3600 + int(b[1])*60 + int(b[2])\n",
    "    return (datetime.fromtimestamp(int(form)).strftime('%Y-%m-%d %H:%M:%S'))\n",
    "\n",
    "data['datetime'] = data['datetime'].apply(lambda x: formatNew(x))\n",
    "print(data[:3])"
   ]
  },
  {
   "cell_type": "code",
   "execution_count": null,
   "metadata": {
    "collapsed": true
   },
   "outputs": [],
   "source": []
  }
 ],
 "metadata": {
  "kernelspec": {
   "display_name": "Python 3",
   "language": "python",
   "name": "python3"
  },
  "language_info": {
   "codemirror_mode": {
    "name": "ipython",
    "version": 3
   },
   "file_extension": ".py",
   "mimetype": "text/x-python",
   "name": "python",
   "nbconvert_exporter": "python",
   "pygments_lexer": "ipython3",
   "version": "3.6.1"
  }
 },
 "nbformat": 4,
 "nbformat_minor": 2
}
